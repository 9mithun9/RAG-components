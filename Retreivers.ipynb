{
  "cells": [
    {
      "cell_type": "code",
      "execution_count": null,
      "metadata": {
        "colab": {
          "base_uri": "https://localhost:8080/"
        },
        "collapsed": true,
        "id": "C5frjd_JGNgc",
        "outputId": "ba57b60c-733e-45fc-9a45-748c56e2bd1b"
      },
      "outputs": [],
      "source": [
        "!pip install langchain langchain_openai langchain-community wikipedia tiktoken openai chromadb faiss-cpu"
      ]
    },
    {
      "cell_type": "code",
      "execution_count": null,
      "metadata": {
        "colab": {
          "base_uri": "https://localhost:8080/",
          "height": 599
        },
        "collapsed": true,
        "id": "NC1f52Y3G-Qh",
        "outputId": "618dc4b4-b58d-4e34-a6d2-07afb7486e6a"
      },
      "outputs": [],
      "source": [
        "# Install OpenAI if not installed\n",
        "!pip install openai\n",
        "\n",
        "# Load key securely without displaying it\n",
        "import os\n",
        "from getpass import getpass\n",
        "\n",
        "os.environ[\"OPENAI_API_KEY\"] = getpass(\"Enter your OpenAI API key: \")\n"
      ]
    },
    {
      "cell_type": "code",
      "execution_count": null,
      "metadata": {
        "id": "jKXBbbY4HGax"
      },
      "outputs": [],
      "source": [
        "import openai\n",
        "\n",
        "openai.api_key = os.getenv(\"OPENAI_API_KEY\")"
      ]
    },
    {
      "cell_type": "code",
      "execution_count": null,
      "metadata": {
        "id": "0QEcnWVpJGw3"
      },
      "outputs": [],
      "source": [
        "from langchain_openai import OpenAIEmbeddings\n",
        "from langchain_community.vectorstores import Chroma\n",
        "from langchain_core.documents import Document"
      ]
    },
    {
      "cell_type": "code",
      "execution_count": null,
      "metadata": {
        "id": "FLFbOnCXJTL3"
      },
      "outputs": [],
      "source": [
        "documents = [\n",
        "    Document(\n",
        "        page_content=\"Climate change is a long-term alteration of temperature and typical weather patterns in a place.\",\n",
        "        metadata={\"topic\": \"Climate Change\"}\n",
        "    ),\n",
        "    Document(\n",
        "        page_content=\"AI enables computers and machines to mimic human intelligence and perform tasks like problem-solving.\",\n",
        "        metadata={\"topic\": \"Artificial Intelligence\"}\n",
        "    ),\n",
        "    Document(\n",
        "        page_content=\"The Great Wall of China was built to protect Chinese states against invasions and raids from nomadic groups.\",\n",
        "        metadata={\"topic\": \"The Great Wall of China\"}\n",
        "    ),\n",
        "    Document(\n",
        "        page_content=\"Electric vehicles use electric motors powered by batteries, reducing carbon emissions significantly.\",\n",
        "        metadata={\"topic\": \"Electric Vehicles\"}\n",
        "    ),\n",
        "    Document(\n",
        "        page_content=\"The human brain is a complex organ responsible for thought, memory, emotion, and sensory processing.\",\n",
        "        metadata={\"topic\": \"The Human Brain\"}\n",
        "    ),\n",
        "    Document(\n",
        "        page_content=\"Paris is the capital of France. Photosynthesis is the process used by plants to convert light energy into chemical energy. Biology is an important subject.\",\n",
        "        metadata={\"topic\": \"Photosynthesis\"}\n",
        "    ),\n",
        "    Document(\n",
        "        page_content=\"Space exploration involves investigating outer space using astronomy, space technology, and spacecraft.\",\n",
        "        metadata={\"topic\": \"Space Exploration\"}\n",
        "    ),\n",
        "    Document(\n",
        "        page_content=\"COVID-19 affected global health systems and economies, highlighting the need for preparedness and vaccines.\",\n",
        "        metadata={\"topic\": \"COVID-19 Pandemic\"}\n",
        "    ),\n",
        "    Document(\n",
        "        page_content=\"Ancient Egypt was a civilization known for pyramids, hieroglyphics, and a deep belief in the afterlife.\",\n",
        "        metadata={\"topic\": \"Ancient Egypt\"}\n",
        "    ),\n",
        "    Document(\n",
        "        page_content=\"Blockchain is a decentralized ledger system that records transactions in a secure and transparent way.\",\n",
        "        metadata={\"topic\": \"Blockchain Technology\"}\n",
        "    ),\n",
        "]"
      ]
    },
    {
      "cell_type": "code",
      "execution_count": null,
      "metadata": {
        "id": "29ChvXJVoTqQ"
      },
      "outputs": [],
      "source": [
        "from langchain.retrievers.multi_query import MultiQueryRetriever"
      ]
    },
    {
      "cell_type": "code",
      "execution_count": null,
      "metadata": {
        "id": "OuZGgq-6ljcT"
      },
      "outputs": [],
      "source": [
        "from langchain_community.vectorstores import FAISS"
      ]
    },
    {
      "cell_type": "code",
      "execution_count": null,
      "metadata": {
        "id": "5NIvfGqTpaMe"
      },
      "outputs": [],
      "source": [
        "from langchain_openai import OpenAIEmbeddings, ChatOpenAI"
      ]
    },
    {
      "cell_type": "code",
      "execution_count": null,
      "metadata": {
        "id": "58X0DvUasUoI"
      },
      "outputs": [],
      "source": [
        "from langchain.retrievers.document_compressors import LLMChainExtractor"
      ]
    },
    {
      "cell_type": "code",
      "execution_count": null,
      "metadata": {
        "id": "Lwd_FN7qsvJV"
      },
      "outputs": [],
      "source": [
        "from langchain.retrievers import ContextualCompressionRetriever"
      ]
    },
    {
      "cell_type": "markdown",
      "metadata": {
        "id": "st4GlV6-rAIF"
      },
      "source": [
        "**Contextual Compression Retriever**"
      ]
    },
    {
      "cell_type": "code",
      "execution_count": null,
      "metadata": {
        "id": "RcGYJQOlrEP5"
      },
      "outputs": [],
      "source": [
        "vs = FAISS.from_documents(\n",
        "    documents = documents,\n",
        "    embedding=OpenAIEmbeddings()\n",
        ")"
      ]
    },
    {
      "cell_type": "code",
      "execution_count": null,
      "metadata": {
        "id": "5LUXcMqMr9KU"
      },
      "outputs": [],
      "source": [
        "base_retriever = vs.as_retriever(search_type=\"similarity\", search_kwargs={\"k\": 1})"
      ]
    },
    {
      "cell_type": "code",
      "execution_count": null,
      "metadata": {
        "id": "q04Zubh5sJkt"
      },
      "outputs": [],
      "source": [
        "llm = ChatOpenAI(model=\"gpt-3.5-turbo\", temperature=0)\n",
        "compressor = LLMChainExtractor.from_llm(llm)"
      ]
    },
    {
      "cell_type": "code",
      "execution_count": null,
      "metadata": {
        "id": "ZYqwvwR5smBB"
      },
      "outputs": [],
      "source": [
        "compression_retriever = ContextualCompressionRetriever(\n",
        "    base_compressor=compressor,\n",
        "    base_retriever=base_retriever\n",
        ")"
      ]
    },
    {
      "cell_type": "code",
      "execution_count": null,
      "metadata": {
        "id": "TRQBsKKZs1FI"
      },
      "outputs": [],
      "source": [
        "result_compression = compression_retriever.invoke(\"What is Photosynthesis?\")"
      ]
    },
    {
      "cell_type": "code",
      "execution_count": null,
      "metadata": {
        "id": "_5LEW0dWs5Mw"
      },
      "outputs": [],
      "source": [
        "for i, doc in enumerate(result_compression):\n",
        "    print(f\"{i+1}. {doc.page_content}\")"
      ]
    },
    {
      "cell_type": "markdown",
      "metadata": {
        "id": "0cg7yrXVoUOA"
      },
      "source": [
        "**Multi Query Retriever**"
      ]
    },
    {
      "cell_type": "code",
      "execution_count": null,
      "metadata": {
        "id": "N1QsAYj5lvQU"
      },
      "outputs": [],
      "source": [
        "vector_store_faiss = FAISS.from_documents(\n",
        "    documents = documents,\n",
        "    embedding=OpenAIEmbeddings()\n",
        ")"
      ]
    },
    {
      "cell_type": "code",
      "execution_count": null,
      "metadata": {
        "id": "rLjKs52fo1Yz"
      },
      "outputs": [],
      "source": [
        "retriever_similarity = vector_store_faiss.as_retriever(search_type=\"similarity\", search_kwargs={\"k\": 2})"
      ]
    },
    {
      "cell_type": "code",
      "execution_count": null,
      "metadata": {
        "id": "eEEx1_q6pLIA"
      },
      "outputs": [],
      "source": [
        "retriever_multi = MultiQueryRetriever.from_llm(\n",
        "    retriever=retriever_similarity,\n",
        "    llm=ChatOpenAI(model=\"gpt-3.5-turbo\", temperature=0)\n",
        ")"
      ]
    },
    {
      "cell_type": "code",
      "execution_count": null,
      "metadata": {
        "id": "jU_nczhBo9Ip"
      },
      "outputs": [],
      "source": [
        "query = \"What protects environment?\""
      ]
    },
    {
      "cell_type": "code",
      "execution_count": null,
      "metadata": {
        "id": "ZsDuatoBpD3Y"
      },
      "outputs": [],
      "source": [
        "result_similarity = retriever_similarity.invoke(query)"
      ]
    },
    {
      "cell_type": "code",
      "execution_count": null,
      "metadata": {
        "id": "-e_oYMsVpycN"
      },
      "outputs": [],
      "source": [
        "result_multi = retriever_multi.invoke(query)"
      ]
    },
    {
      "cell_type": "code",
      "execution_count": null,
      "metadata": {
        "id": "vvZj7na1pHeJ"
      },
      "outputs": [],
      "source": [
        "for i, doc in enumerate(result_similarity):\n",
        "    print(f\"{i+1}. {doc.page_content}\")"
      ]
    },
    {
      "cell_type": "code",
      "execution_count": null,
      "metadata": {
        "id": "5OVXP-kup1-m"
      },
      "outputs": [],
      "source": [
        "for i, doc in enumerate(result_multi):\n",
        "    print(f\"{i+1}. {doc.page_content}\")"
      ]
    },
    {
      "cell_type": "markdown",
      "metadata": {
        "id": "wuslv6wxllHg"
      },
      "source": [
        "**MMR**"
      ]
    },
    {
      "cell_type": "code",
      "execution_count": null,
      "metadata": {
        "id": "Jt1PuvKomCW0"
      },
      "outputs": [],
      "source": [
        "retriever_mmr = vector_store_faiss.as_retriever(search_type=\"mmr\", search_kwargs={\"k\": 2, \"lambda_mult\":0.9})"
      ]
    },
    {
      "cell_type": "code",
      "execution_count": null,
      "metadata": {
        "id": "xCiUsvYEmUOL"
      },
      "outputs": [],
      "source": [
        "query = 'Which docs talks about Biology?'"
      ]
    },
    {
      "cell_type": "code",
      "execution_count": null,
      "metadata": {
        "id": "ie-j94aJmYLr"
      },
      "outputs": [],
      "source": [
        "result_faiss = retriever_mmr.invoke(query)"
      ]
    },
    {
      "cell_type": "code",
      "execution_count": null,
      "metadata": {
        "id": "Q2YF7LsLmb6Q"
      },
      "outputs": [],
      "source": [
        "for i, doc in enumerate(result_faiss):\n",
        "    print(f\"{i+1}. {doc.page_content}\")"
      ]
    },
    {
      "cell_type": "markdown",
      "metadata": {
        "id": "j1GTgEjqJDDF"
      },
      "source": [
        "**Vector Store Retriever**"
      ]
    },
    {
      "cell_type": "code",
      "execution_count": null,
      "metadata": {
        "id": "EyRZvBf8JeX1"
      },
      "outputs": [],
      "source": [
        "vector_store = Chroma.from_documents(\n",
        "    documents = documents,\n",
        "    embedding=OpenAIEmbeddings(),\n",
        "    collection_name=\"my_collection\"\n",
        ")"
      ]
    },
    {
      "cell_type": "code",
      "execution_count": null,
      "metadata": {
        "id": "pA0VdTXKJ7Aa"
      },
      "outputs": [],
      "source": [
        "retriever_vs = vector_store.as_retriever(search_kwargs={\"k\": 2})"
      ]
    },
    {
      "cell_type": "code",
      "execution_count": null,
      "metadata": {
        "id": "skLK4a9xKEct"
      },
      "outputs": [],
      "source": [
        "query='Why EVs are important?'"
      ]
    },
    {
      "cell_type": "code",
      "execution_count": null,
      "metadata": {
        "id": "l9tUA843KPEB"
      },
      "outputs": [],
      "source": [
        "result = retriever_vs.invoke(query)"
      ]
    },
    {
      "cell_type": "code",
      "execution_count": null,
      "metadata": {
        "id": "zDbQUC4kKT7P"
      },
      "outputs": [],
      "source": [
        "for i, doc in enumerate(result):\n",
        "    print(f\"{i+1}. {doc.page_content}\")"
      ]
    },
    {
      "cell_type": "markdown",
      "metadata": {
        "id": "dNu9NLqWI-bg"
      },
      "source": [
        "**Wikipedia Retriever**"
      ]
    },
    {
      "cell_type": "code",
      "execution_count": null,
      "metadata": {
        "id": "XI2sWpGpHHiu"
      },
      "outputs": [],
      "source": [
        "from langchain_community.retrievers import WikipediaRetriever\n",
        "retriever_wk = WikipediaRetriever(top_n_results=2, lang='en')"
      ]
    },
    {
      "cell_type": "code",
      "execution_count": null,
      "metadata": {
        "id": "rWe3dXKBHkZV"
      },
      "outputs": [],
      "source": [
        "query = 'Badr Wars non-existence in non-islamic literature'"
      ]
    },
    {
      "cell_type": "code",
      "execution_count": null,
      "metadata": {
        "id": "mQIjQBBWHv1B"
      },
      "outputs": [],
      "source": [
        "docs = retriever_wk.invoke(query)"
      ]
    },
    {
      "cell_type": "code",
      "execution_count": null,
      "metadata": {
        "collapsed": true,
        "id": "Bs-4T8-bIEZ3"
      },
      "outputs": [],
      "source": [
        "for i, doc in enumerate(docs):\n",
        "    print(f\"{i+1}. {doc.page_content}\")"
      ]
    }
  ],
  "metadata": {
    "colab": {
      "provenance": []
    },
    "kernelspec": {
      "display_name": "Python 3",
      "name": "python3"
    },
    "language_info": {
      "name": "python"
    }
  },
  "nbformat": 4,
  "nbformat_minor": 0
}
